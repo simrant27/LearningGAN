{
  "nbformat": 4,
  "nbformat_minor": 0,
  "metadata": {
    "colab": {
      "provenance": [],
      "toc_visible": true,
      "authorship_tag": "ABX9TyPu5gfCdzpzWqorNgpM3+ZT",
      "include_colab_link": true
    },
    "kernelspec": {
      "name": "python3",
      "display_name": "Python 3"
    },
    "language_info": {
      "name": "python"
    }
  },
  "cells": [
    {
      "cell_type": "markdown",
      "metadata": {
        "id": "view-in-github",
        "colab_type": "text"
      },
      "source": [
        "<a href=\"https://colab.research.google.com/github/simrant27/LearningGAN/blob/main/transposeConv.ipynb\" target=\"_parent\"><img src=\"https://colab.research.google.com/assets/colab-badge.svg\" alt=\"Open In Colab\"/></a>"
      ]
    },
    {
      "cell_type": "code",
      "execution_count": 9,
      "metadata": {
        "id": "nXDSGeP4OLmU"
      },
      "outputs": [],
      "source": [
        "import torch\n",
        "import torch.nn as nn\n",
        "import torch.nn.functional as F\n",
        "\n",
        "import numpy as np\n"
      ]
    },
    {
      "cell_type": "code",
      "source": [
        "input_tensor = torch.ones(1, 1, 5, 5)\n",
        "\n",
        "trans_conv = nn.ConvTranspose2d(1, 1, kernel_size=3, stride=2, padding=0, bias=False)\n",
        "trans_conv.weight.data.fill_(1.0)\n",
        "\n",
        "output_tensor = trans_conv(input_tensor)\n",
        "print(output_tensor)"
      ],
      "metadata": {
        "colab": {
          "base_uri": "https://localhost:8080/"
        },
        "id": "LtOqIRa1OUC5",
        "outputId": "afd164f7-d880-49d0-e247-c0c91bfda892"
      },
      "execution_count": 10,
      "outputs": [
        {
          "output_type": "stream",
          "name": "stdout",
          "text": [
            "tensor([[[[1., 1., 2., 1., 2., 1., 2., 1., 2., 1., 1.],\n",
            "          [1., 1., 2., 1., 2., 1., 2., 1., 2., 1., 1.],\n",
            "          [2., 2., 4., 2., 4., 2., 4., 2., 4., 2., 2.],\n",
            "          [1., 1., 2., 1., 2., 1., 2., 1., 2., 1., 1.],\n",
            "          [2., 2., 4., 2., 4., 2., 4., 2., 4., 2., 2.],\n",
            "          [1., 1., 2., 1., 2., 1., 2., 1., 2., 1., 1.],\n",
            "          [2., 2., 4., 2., 4., 2., 4., 2., 4., 2., 2.],\n",
            "          [1., 1., 2., 1., 2., 1., 2., 1., 2., 1., 1.],\n",
            "          [2., 2., 4., 2., 4., 2., 4., 2., 4., 2., 2.],\n",
            "          [1., 1., 2., 1., 2., 1., 2., 1., 2., 1., 1.],\n",
            "          [1., 1., 2., 1., 2., 1., 2., 1., 2., 1., 1.]]]],\n",
            "       grad_fn=<ConvolutionBackward0>)\n"
          ]
        }
      ]
    },
    {
      "cell_type": "code",
      "source": [
        "input_tensor = torch.ones(1, 1, 7, 7)\n",
        "\n",
        "dilated_conv = nn.Conv2d(1, 1, kernel_size=3, dilation=2, stride=1, padding=0, bias=False)\n",
        "dilated_conv.weight.data.fill_(1.0)\n",
        "\n",
        "output_tensor = dilated_conv(input_tensor)\n",
        "print(output_tensor)\n",
        "\n",
        "\n"
      ],
      "metadata": {
        "colab": {
          "base_uri": "https://localhost:8080/"
        },
        "id": "f3vfa9yLOWpy",
        "outputId": "d9b3880e-0e8c-4869-876a-1f54ed83dd72"
      },
      "execution_count": 11,
      "outputs": [
        {
          "output_type": "stream",
          "name": "stdout",
          "text": [
            "tensor([[[[9., 9., 9.],\n",
            "          [9., 9., 9.],\n",
            "          [9., 9., 9.]]]], grad_fn=<ConvolutionBackward0>)\n"
          ]
        }
      ]
    },
    {
      "cell_type": "code",
      "source": [],
      "metadata": {
        "id": "AlzXBIV5PNLU"
      },
      "execution_count": 11,
      "outputs": []
    }
  ]
}